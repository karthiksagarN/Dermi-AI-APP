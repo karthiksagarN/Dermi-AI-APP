{
 "cells": [
  {
   "cell_type": "code",
   "execution_count": 10,
   "metadata": {},
   "outputs": [],
   "source": [
    "from langchain.chat_models import ChatOpenAI\n",
    "from langchain.schema import HumanMessage, SystemMessage, AIMessage\n",
    "from langchain.prompts import ChatPromptTemplate\n",
    "from langchain.schema import BaseOutputParser\n",
    "\n",
    "api_key = \"youe_own_openai_api_key\"\n",
    "chatllm = ChatOpenAI(api_key= api_key, temperature=0.6, model= 'gpt-3.5-turbo')\n",
    "\n",
    "template = \"You are a Medical Consultant AI assistant. When ever the user gives any input, you should give the user suggestion on how he can perform a temporary first aid or any temporary action he can take based on the emergency he has mentione in the text untill the actual emergency services arrive to assist him and then give the answer. The answer should be written as a paragraph or point wise.\"\n",
    "human_template = \"{text}\"\n",
    "chatprompt = ChatPromptTemplate.from_messages([\n",
    "    (\"system\", template),\n",
    "    (\"human\", human_template)\n",
    "])\n",
    "chain = chatprompt|chatllm\n",
    "\n",
    "messege = chain.invoke({\"text\":\"high fever along with headache and cold\"})\n",
    "messege.content"
   ]
  },
  {
   "cell_type": "code",
   "execution_count": null,
   "metadata": {},
   "outputs": [],
   "source": []
  }
 ],
 "metadata": {
  "kernelspec": {
   "display_name": "base",
   "language": "python",
   "name": "python3"
  },
  "language_info": {
   "codemirror_mode": {
    "name": "ipython",
    "version": 3
   },
   "file_extension": ".py",
   "mimetype": "text/x-python",
   "name": "python",
   "nbconvert_exporter": "python",
   "pygments_lexer": "ipython3",
   "version": "3.11.5"
  }
 },
 "nbformat": 4,
 "nbformat_minor": 2
}
